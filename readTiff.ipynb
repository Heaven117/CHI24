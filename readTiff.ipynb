{
 "cells": [
  {
   "cell_type": "code",
   "execution_count": 3,
   "metadata": {
    "collapsed": true,
    "ExecuteTime": {
     "start_time": "2023-08-09T17:53:03.988506Z",
     "end_time": "2023-08-09T17:53:04.003604Z"
    }
   },
   "outputs": [],
   "source": [
    "import os\n",
    "\n",
    "import matplotlib.pyplot as plt\n",
    "import netCDF4 as nc\n",
    "from osgeo import gdal,osr\n",
    "import numpy as np\n",
    "VAR ='TS'\n",
    "outtif = f'./out/{VAR}.tiff'"
   ]
  },
  {
   "cell_type": "code",
   "execution_count": 5,
   "outputs": [
    {
     "name": "stdout",
     "output_type": "stream",
     "text": [
      "GEOGCS[\"WGS 84\",\n",
      "    DATUM[\"WGS_1984\",\n",
      "        SPHEROID[\"WGS 84\",6378137,298.257223563,\n",
      "            AUTHORITY[\"EPSG\",\"7030\"]],\n",
      "        AUTHORITY[\"EPSG\",\"6326\"]],\n",
      "    PRIMEM[\"Greenwich\",0,\n",
      "        AUTHORITY[\"EPSG\",\"8901\"]],\n",
      "    UNIT[\"degree\",0.0174532925199433,\n",
      "        AUTHORITY[\"EPSG\",\"9122\"]],\n",
      "    AXIS[\"Latitude\",NORTH],\n",
      "    AXIS[\"Longitude\",EAST],\n",
      "    AUTHORITY[\"EPSG\",\"4326\"]]\n"
     ]
    }
   ],
   "source": [
    "dataset = gdal.Open(outtif)  # 打开文件\n",
    "im_width = dataset.RasterXSize  # 栅格矩阵的列数\n",
    "im_height = dataset.RasterYSize  # 栅格矩阵的行数\n",
    "im_bands = dataset.RasterCount  # 波段数\n",
    "im_width,im_height,im_bands\n",
    "\n",
    "# print(im_bands)\n",
    "#栅格数据的六参数。\n",
    "# geoTransform[0]：左上角像素经度\n",
    "# geoTransform[1]：影像宽度方向上的分辨率(经度范围/像素个数)\n",
    "# geoTransform[2]：x像素旋转, 0表示上面为北方\n",
    "# geoTransform[3]：左上角像素纬度\n",
    "# geoTransform[4]：y像素旋转, 0表示上面为北方\n",
    "# geoTransform[5]：影像宽度方向上的分辨率(纬度范围/像素个数)\n",
    "extent = dataset.GetGeoTransform()  # 仿射矩阵，左上角像素的大地坐标和像素分辨率\n",
    "var = dataset.GetProjection()   # 栅格数据的投影\n",
    "# osr.SpatialReference 提供描绘和转换坐标系统的服务 地理坐标(用经纬度表示)；投影坐标(如 UTM ，用米等单位量度来定位)。\n",
    "pcs = osr.SpatialReference()\n",
    "# ImportFromWkt()函数可以把 WKT坐标系统设置到OGRSpatialReference中\n",
    "pcs.ImportFromWkt(dataset.GetProjection())\n",
    "gcs = pcs.CloneGeogCS()  #地理空间坐标系\n",
    "print(gcs)\n",
    "shape = (dataset.RasterYSize, dataset.RasterXSize)\n",
    "img = dataset.GetRasterBand(1).ReadAsArray()  # (height, width)\n",
    "# print(img)\n",
    "# img(ndarray), gdal数据集、地理空间坐标系、投影坐标系、栅格影像大小"
   ],
   "metadata": {
    "collapsed": false,
    "ExecuteTime": {
     "start_time": "2023-08-09T17:53:50.980423Z",
     "end_time": "2023-08-09T17:53:51.037528Z"
    }
   }
  },
  {
   "cell_type": "code",
   "execution_count": null,
   "outputs": [],
   "source": [],
   "metadata": {
    "collapsed": false
   }
  }
 ],
 "metadata": {
  "kernelspec": {
   "display_name": "Python 3",
   "language": "python",
   "name": "python3"
  },
  "language_info": {
   "codemirror_mode": {
    "name": "ipython",
    "version": 2
   },
   "file_extension": ".py",
   "mimetype": "text/x-python",
   "name": "python",
   "nbconvert_exporter": "python",
   "pygments_lexer": "ipython2",
   "version": "2.7.6"
  }
 },
 "nbformat": 4,
 "nbformat_minor": 0
}
